{
  "nbformat": 4,
  "nbformat_minor": 0,
  "metadata": {
    "colab": {
      "name": "Рыночный риск. Расчет VaR.ipynb",
      "provenance": []
    },
    "kernelspec": {
      "name": "python3",
      "display_name": "Python 3"
    },
    "language_info": {
      "name": "python"
    }
  },
  "cells": [
    {
      "cell_type": "markdown",
      "source": [
        "# ***Value at risk (VaR)***"
      ],
      "metadata": {
        "id": "eG-EVpSrTCsb"
      }
    },
    {
      "cell_type": "markdown",
      "source": [
        "**Существуют различные инструменты для измерения рыночного риска. Из них наиболее известными и широко приемлемыми инструментами являются Value at risk (VaR) и Expected shortfall (ES).** Остновимся на первом.\n",
        "\n",
        "VaR в основном решает один из самых распространенных вопросов инвестора: *Учитывая уровень риска, какова максимальная ожидаемая потеря моих инвестиций?*\n",
        "\n",
        "VaR дает очень интуитивный и практичный ответ на этот вопрос. В связи с этим он используется для измерения наихудшего ожидаемого убытка компании за определенный период и заранее определенного доверительного интервала. Предположим, что ежедневный VaR инвестиций составляет 10 миллионов долларов с 95% доверительным интервалом. \n",
        "\n",
        "Это звучит так: Существует 5%-ная вероятность того, что инвестор может понести убытки, превышающие 10 миллионов долларов убытка за день.\n",
        "\n",
        "Исходя из этого, компонентами VaR являются доверительный интервал, период времени, стоимость актива или портфеля и стандартное отклонение, поскольку мы говорим о риске.\n",
        "\n",
        "Таким образом, в анализе VaR есть несколько важных моментов, которые необходимо подчеркнуть:\n",
        "\n",
        "* VaR нуждается в оценке вероятности потери\n",
        "* VaR концентрируется на потенциальных потерях. Мы не говорим о фактических или реализованных потерях скорее VaR это своего рода прогноз потерь\n",
        "\n",
        "VaR состоит из трех ключевых состовляющих:\n",
        "\n",
        "* Стандартное отклонение, определяющее уровень потерь\n",
        "* Фиксированный временной горизонт, в течение которого оценивается риск\n",
        "* Доверительный интервал\n",
        "\n",
        "VaR можно измерить с помощью трех различных подходов: \n",
        "* Дисперсионно-ковариационный\n",
        "* Историческое моделирование\n",
        "* Метод Монте-Карло\n",
        "\n",
        "**Рассмотрим Дисперсионно-ковариационный метод и Историческое моделирование** "
      ],
      "metadata": {
        "id": "bOYOT2APVMam"
      }
    },
    {
      "cell_type": "code",
      "source": [
        "import pandas as pd\n",
        "import numpy as np\n",
        "import matplotlib.pyplot as plt\n",
        "import datetime\n",
        "import yfinance as yf\n",
        "from scipy.stats import norm\n",
        "import requests\n",
        "from io import StringIO\n",
        "import seaborn as sns; sns.set()\n",
        "import warnings\n",
        "warnings.filterwarnings('ignore')\n",
        "plt.rcParams['figure.figsize'] = (10,6)\n",
        "plt.rcParams['figure.dpi'] = 300\n",
        "plt.rcParams['savefig.dpi'] = 300"
      ],
      "metadata": {
        "id": "MjCUvmRSMlTG"
      },
      "execution_count": 1,
      "outputs": []
    },
    {
      "cell_type": "code",
      "source": [
        "mean = 0\n",
        "std_dev = 1\n",
        "x = np.arange(-5, 5, 0.01)\n",
        "# Генерация функции плотности вероятности на основе заданных значений x, среднего значения и стандартного отклонения\n",
        "y = norm.pdf(x, mean, std_dev)\n",
        "pdf = plt.plot(x, y)\n",
        "# Ограничение осей x и y\n",
        "min_ylim, max_ylim = plt.ylim()\n",
        "# Указание местоположения x в 5% процентиле от данных x.\n",
        "plt.text(np.percentile(x, 5), max_ylim * 0.9, '95%:${:.4f}'\n",
        "         .format(np.percentile(x, 5)))\n",
        "plt.axvline(np.percentile(x, 5), color='r', linestyle='dashed',\n",
        "            linewidth=4)\n",
        "plt.title('Value at Risk')\n",
        "plt.show()"
      ],
      "metadata": {
        "colab": {
          "base_uri": "https://localhost:8080/",
          "height": 284
        },
        "id": "k3Djrx5fYm3d",
        "outputId": "b3caf081-9ef9-4384-c209-c8375fcd5ea3"
      },
      "execution_count": 2,
      "outputs": [
        {
          "output_type": "display_data",
          "data": {
            "text/plain": [
              "<Figure size 432x288 with 1 Axes>"
            ],
            "image/png": "[encoded data removed]"
          },
          "metadata": {
            "needs_background": "light"
          }
        }
      ]
    },
    {
      "cell_type": "markdown",
      "source": [
        "Рис.1 Value at Risk: С 95% вероятностью потери от вложений не превысят 4.5$ на определенном временном горизонте."
      ],
      "metadata": {
        "id": "cy9pd4FSWcTB"
      }
    },
    {
      "cell_type": "markdown",
      "source": [
        "Для распределения фиансовых показателей, например, для доходностей акций характерны \"жирные хвосты\" и асимметрия, что не совсем соответствует нормальному распределению. Это эмпирическое наблюдение подразумевает, что доходность акций имеет более высокий эксцесс, чем при нормальном распределении.\n",
        "\n",
        "Наличие высокого эксцесса равносильно \"жирному хвосту\", и это может привести к крайне отрицательной доходности. \n",
        "\n",
        "Поскольку метод дисперсионно-ковариационного анализа не может охватить \"жирный хвост\", он, следовательно, не может оценить экстремальную отрицательную доходность, которая, вероятно, произойдет, особенно в кризисный период."
      ],
      "metadata": {
        "id": "1EU6mMIvWvfa"
      }
    },
    {
      "cell_type": "markdown",
      "source": [
        "Обозначив ограничение Дисперсионно-ковариационного метода, применим его на  портфеле из 3х активов. \n",
        "\n",
        "Формула дисперсии-ковариации VaR для 2х активов выглядит следующим образом:"
      ],
      "metadata": {
        "id": "1Ho4LvDCW5T0"
      }
    },
    {
      "cell_type": "markdown",
      "source": [
        "${VaR = V\\sigma_p\\sqrt{t}Z_\\alpha}$\n",
        "\n",
        "${\\sigma_p} = \\sqrt{\\omega_1^2\\sigma_1^2 + \\omega_2^2\\sigma_2^2 + \\rho\\omega_1\\sigma_1\\omega_2\\sigma_2}$\n",
        "\n",
        "${\\sigma_p} = \\sqrt{\\omega_1^2\\sigma_1^2 + \\omega_2^2\\sigma_2^2 + 2\\omega_1\\omega_2{cov(\\sigma_1\\sigma_2)}}$"
      ],
      "metadata": {
        "id": "KOHgZQ6nujRO"
      }
    },
    {
      "cell_type": "markdown",
      "source": [
        "Воспользуемся функцией [TIME_SERIES_DAILY](https://www.alphavantage.co/documentation/#daily) (Alpha Vantage) она возвращает необработанные (по мере торговли) ежедневные временные ряды (данные, дневное открытие, дневной максимум, дневной минимум, дневное закрытие, дневной объем)\n",
        "\n",
        "[Alpha Vantage](https://www.alphavantage.co/) - *это компания, предоставляющая данные, сотрудничающая с крупнейшими биржами и институтами. Используя Alpha Vantage API, можно получить доступ к ценам на акции с различным временным интервалом - например, внутридневным, дневным, недельным и так далее, фундаментальным показателям акций и информации о рынке Форекс.*"
      ],
      "metadata": {
        "id": "FuiozP11pMjp"
      }
    },
    {
      "cell_type": "code",
      "source": [
        "# Определение параметров, которые будут использоваться при извлечении данных из Alpha Vantage. Воспользуемся функцией TIME_SERIES_DAILY \n",
        "def getDailyData(symbol):\n",
        "        parameters = {'function': 'TIME_SERIES_DAILY', \n",
        "                      'symbol': symbol,\n",
        "                      'outputsize':'full',\n",
        "                      'datatype': 'csv',\n",
        "                      'apikey': 'D8RVS3K6LXLZGRJH'}\n",
        "                    \n",
        "# Создание запроса на веб-сайт Alpha Vantage.\n",
        "        response = requests.get('https://www.alphavantage.co/query?function=TIME_SERIES_DAILY&symbol=IBM&apikey=demo&datatype=csv',\n",
        "                                params=parameters)\n",
        "# Откроем файл, который находится в текстовом формате.\n",
        "# Обработаем полученный CSV-файл\n",
        "        csvText = StringIO(response.text)\n",
        "        data = pd.read_csv(csvText, index_col='timestamp')\n",
        "        return data"
      ],
      "metadata": {
        "id": "5QKSejJyLAc3"
      },
      "execution_count": 3,
      "outputs": []
    },
    {
      "cell_type": "markdown",
      "source": [
        "Применим методы оценки VaR на двух периодах: сначала за 2020г., а затем на кризисном 2007-2009 гг."
      ],
      "metadata": {
        "id": "9kD9CAb7aSQU"
      }
    },
    {
      "cell_type": "markdown",
      "source": [
        "Загрузим данные за 2020г.\n",
        "\n",
        "Пусть портфель состоит из 3х активов: \n",
        "\n",
        "* Акции International Business Machines (IBM)\n",
        "* Акции Microsoft Corporation (MSFT) \n",
        "* Акции Intel (INTC)"
      ],
      "metadata": {
        "id": "c_vtwOOW-Aam"
      }
    },
    {
      "cell_type": "code",
      "source": [
        "symbols = [\"IBM\", \"MSFT\", \"INTC\"]\n",
        "stock3 = []\n",
        "for symbol in symbols:\n",
        "    # Перевернем данные, охватывающие период проверки, и добавьте ежедневные цены закрытия акций IBM, MSFT и INTC.\n",
        "    stock3.append(getDailyData(symbol)[::-1]['close']['2020-01-01':'2020-12-31'])\n",
        "\n",
        "stocks = pd.DataFrame(stock3).T\n",
        "stocks.columns = symbols"
      ],
      "metadata": {
        "id": "MiEWiQ21Ytjd"
      },
      "execution_count": 4,
      "outputs": []
    },
    {
      "cell_type": "code",
      "source": [
        "stocks.head()"
      ],
      "metadata": {
        "id": "tv7QNITVYw8f",
        "colab": {
          "base_uri": "https://localhost:8080/",
          "height": 237
        },
        "outputId": "bf0ee4b9-e7f0-4768-d8ad-02448d3264ef"
      },
      "execution_count": 5,
      "outputs": [
        {
          "output_type": "execute_result",
          "data": {
            "text/plain": [
              "               IBM    MSFT   INTC\n",
              "timestamp                        \n",
              "2020-01-02  135.42  160.62  60.84\n",
              "2020-01-03  134.34  158.62  60.10\n",
              "2020-01-06  134.10  159.03  59.93\n",
              "2020-01-07  134.19  157.58  58.93\n",
              "2020-01-08  135.31  160.09  58.97"
            ],
            "text/html": [
              "\n",
              "  <div id=\"df-01e018c1-9d08-404e-80b2-9c18072dfdcc\">\n",
              "    <div class=\"colab-df-container\">\n",
              "      <div>\n",
              "<style scoped>\n",
              "    .dataframe tbody tr th:only-of-type {\n",
              "        vertical-align: middle;\n",
              "    }\n",
              "\n",
              "    .dataframe tbody tr th {\n",
              "        vertical-align: top;\n",
              "    }\n",
              "\n",
              "    .dataframe thead th {\n",
              "        text-align: right;\n",
              "    }\n",
              "</style>\n",
              "<table border=\"1\" class=\"dataframe\">\n",
              "  <thead>\n",
              "    <tr style=\"text-align: right;\">\n",
              "      <th></th>\n",
              "      <th>IBM</th>\n",
              "      <th>MSFT</th>\n",
              "      <th>INTC</th>\n",
              "    </tr>\n",
              "    <tr>\n",
              "      <th>timestamp</th>\n",
              "      <th></th>\n",
              "      <th></th>\n",
              "      <th></th>\n",
              "    </tr>\n",
              "  </thead>\n",
              "  <tbody>\n",
              "    <tr>\n",
              "      <th>2020-01-02</th>\n",
              "      <td>135.42</td>\n",
              "      <td>160.62</td>\n",
              "      <td>60.84</td>\n",
              "    </tr>\n",
              "    <tr>\n",
              "      <th>2020-01-03</th>\n",
              "      <td>134.34</td>\n",
              "      <td>158.62</td>\n",
              "      <td>60.10</td>\n",
              "    </tr>\n",
              "    <tr>\n",
              "      <th>2020-01-06</th>\n",
              "      <td>134.10</td>\n",
              "      <td>159.03</td>\n",
              "      <td>59.93</td>\n",
              "    </tr>\n",
              "    <tr>\n",
              "      <th>2020-01-07</th>\n",
              "      <td>134.19</td>\n",
              "      <td>157.58</td>\n",
              "      <td>58.93</td>\n",
              "    </tr>\n",
              "    <tr>\n",
              "      <th>2020-01-08</th>\n",
              "      <td>135.31</td>\n",
              "      <td>160.09</td>\n",
              "      <td>58.97</td>\n",
              "    </tr>\n",
              "  </tbody>\n",
              "</table>\n",
              "</div>\n",
              "      <button class=\"colab-df-convert\" onclick=\"convertToInteractive('df-01e018c1-9d08-404e-80b2-9c18072dfdcc')\"\n",
              "              title=\"Convert this dataframe to an interactive table.\"\n",
              "              style=\"display:none;\">\n",
              "        \n",
              "  <svg xmlns=\"http://www.w3.org/2000/svg\" height=\"24px\"viewBox=\"0 0 24 24\"\n",
              "       width=\"24px\">\n",
              "    <path d=\"M0 0h24v24H0V0z\" fill=\"none\"/>\n",
              "    <path d=\"M18.56 5.44l.94 2.06.94-2.06 2.06-.94-2.06-.94-.94-2.06-.94 2.06-2.06.94zm-11 1L8.5 8.5l.94-2.06 2.06-.94-2.06-.94L8.5 2.5l-.94 2.06-2.06.94zm10 10l.94 2.06.94-2.06 2.06-.94-2.06-.94-.94-2.06-.94 2.06-2.06.94z\"/><path d=\"M17.41 7.96l-1.37-1.37c-.4-.4-.92-.59-1.43-.59-.52 0-1.04.2-1.43.59L10.3 9.45l-7.72 7.72c-.78.78-.78 2.05 0 2.83L4 21.41c.39.39.9.59 1.41.59.51 0 1.02-.2 1.41-.59l7.78-7.78 2.81-2.81c.8-.78.8-2.07 0-2.86zM5.41 20L4 18.59l7.72-7.72 1.47 1.35L5.41 20z\"/>\n",
              "  </svg>\n",
              "      </button>\n",
              "      \n",
              "  <style>\n",
              "    .colab-df-container {\n",
              "      display:flex;\n",
              "      flex-wrap:wrap;\n",
              "      gap: 12px;\n",
              "    }\n",
              "\n",
              "    .colab-df-convert {\n",
              "      background-color: #E8F0FE;\n",
              "      border: none;\n",
              "      border-radius: 50%;\n",
              "      cursor: pointer;\n",
              "      display: none;\n",
              "      fill: #1967D2;\n",
              "      height: 32px;\n",
              "      padding: 0 0 0 0;\n",
              "      width: 32px;\n",
              "    }\n",
              "\n",
              "    .colab-df-convert:hover {\n",
              "      background-color: #E2EBFA;\n",
              "      box-shadow: 0px 1px 2px rgba(60, 64, 67, 0.3), 0px 1px 3px 1px rgba(60, 64, 67, 0.15);\n",
              "      fill: #174EA6;\n",
              "    }\n",
              "\n",
              "    [theme=dark] .colab-df-convert {\n",
              "      background-color: #3B4455;\n",
              "      fill: #D2E3FC;\n",
              "    }\n",
              "\n",
              "    [theme=dark] .colab-df-convert:hover {\n",
              "      background-color: #434B5C;\n",
              "      box-shadow: 0px 1px 3px 1px rgba(0, 0, 0, 0.15);\n",
              "      filter: drop-shadow(0px 1px 2px rgba(0, 0, 0, 0.3));\n",
              "      fill: #FFFFFF;\n",
              "    }\n",
              "  </style>\n",
              "\n",
              "      <script>\n",
              "        const buttonEl =\n",
              "          document.querySelector('#df-01e018c1-9d08-404e-80b2-9c18072dfdcc button.colab-df-convert');\n",
              "        buttonEl.style.display =\n",
              "          google.colab.kernel.accessAllowed ? 'block' : 'none';\n",
              "\n",
              "        async function convertToInteractive(key) {\n",
              "          const element = document.querySelector('#df-01e018c1-9d08-404e-80b2-9c18072dfdcc');\n",
              "          const dataTable =\n",
              "            await google.colab.kernel.invokeFunction('convertToInteractive',\n",
              "                                                     [key], {});\n",
              "          if (!dataTable) return;\n",
              "\n",
              "          const docLinkHtml = 'Like what you see? Visit the ' +\n",
              "            '<a target=\"_blank\" href=https://colab.research.google.com/notebooks/data_table.ipynb>data table notebook</a>'\n",
              "            + ' to learn more about interactive tables.';\n",
              "          element.innerHTML = '';\n",
              "          dataTable['output_type'] = 'display_data';\n",
              "          await google.colab.output.renderOutput(dataTable, element);\n",
              "          const docLink = document.createElement('div');\n",
              "          docLink.innerHTML = docLinkHtml;\n",
              "          element.appendChild(docLink);\n",
              "        }\n",
              "      </script>\n",
              "    </div>\n",
              "  </div>\n",
              "  "
            ]
          },
          "metadata": {},
          "execution_count": 5
        }
      ]
    },
    {
      "cell_type": "markdown",
      "source": [
        "### Дисперсионно-ковариационный метод"
      ],
      "metadata": {
        "id": "zK7LceDlY26O"
      }
    },
    {
      "cell_type": "markdown",
      "source": [
        "Дисперсионно-ковариационный метод также известен как параметрический метод, поскольку предполагается, что данные распределены нормально. Метод дисперсионно-ковариационного анализа является обычным явлением из-за этого предположения, однако стоит отметить, что доходность не распределяется нормально. Предположение о параметрической форме делает применение метода дисперсионно-ковариационного анализа практичным и простым в применении."
      ],
      "metadata": {
        "id": "MVlymiaG9ybb"
      }
    },
    {
      "cell_type": "code",
      "source": [
        "# Вычисление логарифмической доходности, чтобы пивести распределение доходности активов к нормальному\n",
        "stocks_returns = (np.log(stocks) - np.log(stocks.shift(1))).dropna()\n",
        "stocks_returns"
      ],
      "metadata": {
        "id": "astVsZgcY540",
        "colab": {
          "base_uri": "https://localhost:8080/",
          "height": 455
        },
        "outputId": "b70d6739-2f6c-4e31-ccfc-aa898ccdf5ee"
      },
      "execution_count": 6,
      "outputs": [
        {
          "output_type": "execute_result",
          "data": {
            "text/plain": [
              "                 IBM      MSFT      INTC\n",
              "timestamp                               \n",
              "2020-01-03 -0.008007 -0.012530 -0.012238\n",
              "2020-01-06 -0.001788  0.002581 -0.002833\n",
              "2020-01-07  0.000671 -0.009160 -0.016827\n",
              "2020-01-08  0.008312  0.015803  0.000679\n",
              "2020-01-09  0.010513  0.012416  0.005580\n",
              "...              ...       ...       ...\n",
              "2020-12-24  0.006356  0.007797  0.010679\n",
              "2020-12-28  0.001042  0.009873  0.000000\n",
              "2020-12-29 -0.008205 -0.003607  0.048112\n",
              "2020-12-30  0.004352 -0.011081 -0.013043\n",
              "2020-12-31  0.012309  0.003333  0.021711\n",
              "\n",
              "[252 rows x 3 columns]"
            ],
            "text/html": [
              "\n",
              "  <div id=\"df-3e8a3c48-aad2-4dab-8c75-67951fb29e39\">\n",
              "    <div class=\"colab-df-container\">\n",
              "      <div>\n",
              "<style scoped>\n",
              "    .dataframe tbody tr th:only-of-type {\n",
              "        vertical-align: middle;\n",
              "    }\n",
              "\n",
              "    .dataframe tbody tr th {\n",
              "        vertical-align: top;\n",
              "    }\n",
              "\n",
              "    .dataframe thead th {\n",
              "        text-align: right;\n",
              "    }\n",
              "</style>\n",
              "<table border=\"1\" class=\"dataframe\">\n",
              "  <thead>\n",
              "    <tr style=\"text-align: right;\">\n",
              "      <th></th>\n",
              "      <th>IBM</th>\n",
              "      <th>MSFT</th>\n",
              "      <th>INTC</th>\n",
              "    </tr>\n",
              "    <tr>\n",
              "      <th>timestamp</th>\n",
              "      <th></th>\n",
              "      <th></th>\n",
              "      <th></th>\n",
              "    </tr>\n",
              "  </thead>\n",
              "  <tbody>\n",
              "    <tr>\n",
              "      <th>2020-01-03</th>\n",
              "      <td>-0.008007</td>\n",
              "      <td>-0.012530</td>\n",
              "      <td>-0.012238</td>\n",
              "    </tr>\n",
              "    <tr>\n",
              "      <th>2020-01-06</th>\n",
              "      <td>-0.001788</td>\n",
              "      <td>0.002581</td>\n",
              "      <td>-0.002833</td>\n",
              "    </tr>\n",
              "    <tr>\n",
              "      <th>2020-01-07</th>\n",
              "      <td>0.000671</td>\n",
              "      <td>-0.009160</td>\n",
              "      <td>-0.016827</td>\n",
              "    </tr>\n",
              "    <tr>\n",
              "      <th>2020-01-08</th>\n",
              "      <td>0.008312</td>\n",
              "      <td>0.015803</td>\n",
              "      <td>0.000679</td>\n",
              "    </tr>\n",
              "    <tr>\n",
              "      <th>2020-01-09</th>\n",
              "      <td>0.010513</td>\n",
              "      <td>0.012416</td>\n",
              "      <td>0.005580</td>\n",
              "    </tr>\n",
              "    <tr>\n",
              "      <th>...</th>\n",
              "      <td>...</td>\n",
              "      <td>...</td>\n",
              "      <td>...</td>\n",
              "    </tr>\n",
              "    <tr>\n",
              "      <th>2020-12-24</th>\n",
              "      <td>0.006356</td>\n",
              "      <td>0.007797</td>\n",
              "      <td>0.010679</td>\n",
              "    </tr>\n",
              "    <tr>\n",
              "      <th>2020-12-28</th>\n",
              "      <td>0.001042</td>\n",
              "      <td>0.009873</td>\n",
              "      <td>0.000000</td>\n",
              "    </tr>\n",
              "    <tr>\n",
              "      <th>2020-12-29</th>\n",
              "      <td>-0.008205</td>\n",
              "      <td>-0.003607</td>\n",
              "      <td>0.048112</td>\n",
              "    </tr>\n",
              "    <tr>\n",
              "      <th>2020-12-30</th>\n",
              "      <td>0.004352</td>\n",
              "      <td>-0.011081</td>\n",
              "      <td>-0.013043</td>\n",
              "    </tr>\n",
              "    <tr>\n",
              "      <th>2020-12-31</th>\n",
              "      <td>0.012309</td>\n",
              "      <td>0.003333</td>\n",
              "      <td>0.021711</td>\n",
              "    </tr>\n",
              "  </tbody>\n",
              "</table>\n",
              "<p>252 rows × 3 columns</p>\n",
              "</div>\n",
              "      <button class=\"colab-df-convert\" onclick=\"convertToInteractive('df-3e8a3c48-aad2-4dab-8c75-67951fb29e39')\"\n",
              "              title=\"Convert this dataframe to an interactive table.\"\n",
              "              style=\"display:none;\">\n",
              "        \n",
              "  <svg xmlns=\"http://www.w3.org/2000/svg\" height=\"24px\"viewBox=\"0 0 24 24\"\n",
              "       width=\"24px\">\n",
              "    <path d=\"M0 0h24v24H0V0z\" fill=\"none\"/>\n",
              "    <path d=\"M18.56 5.44l.94 2.06.94-2.06 2.06-.94-2.06-.94-.94-2.06-.94 2.06-2.06.94zm-11 1L8.5 8.5l.94-2.06 2.06-.94-2.06-.94L8.5 2.5l-.94 2.06-2.06.94zm10 10l.94 2.06.94-2.06 2.06-.94-2.06-.94-.94-2.06-.94 2.06-2.06.94z\"/><path d=\"M17.41 7.96l-1.37-1.37c-.4-.4-.92-.59-1.43-.59-.52 0-1.04.2-1.43.59L10.3 9.45l-7.72 7.72c-.78.78-.78 2.05 0 2.83L4 21.41c.39.39.9.59 1.41.59.51 0 1.02-.2 1.41-.59l7.78-7.78 2.81-2.81c.8-.78.8-2.07 0-2.86zM5.41 20L4 18.59l7.72-7.72 1.47 1.35L5.41 20z\"/>\n",
              "  </svg>\n",
              "      </button>\n",
              "      \n",
              "  <style>\n",
              "    .colab-df-container {\n",
              "      display:flex;\n",
              "      flex-wrap:wrap;\n",
              "      gap: 12px;\n",
              "    }\n",
              "\n",
              "    .colab-df-convert {\n",
              "      background-color: #E8F0FE;\n",
              "      border: none;\n",
              "      border-radius: 50%;\n",
              "      cursor: pointer;\n",
              "      display: none;\n",
              "      fill: #1967D2;\n",
              "      height: 32px;\n",
              "      padding: 0 0 0 0;\n",
              "      width: 32px;\n",
              "    }\n",
              "\n",
              "    .colab-df-convert:hover {\n",
              "      background-color: #E2EBFA;\n",
              "      box-shadow: 0px 1px 2px rgba(60, 64, 67, 0.3), 0px 1px 3px 1px rgba(60, 64, 67, 0.15);\n",
              "      fill: #174EA6;\n",
              "    }\n",
              "\n",
              "    [theme=dark] .colab-df-convert {\n",
              "      background-color: #3B4455;\n",
              "      fill: #D2E3FC;\n",
              "    }\n",
              "\n",
              "    [theme=dark] .colab-df-convert:hover {\n",
              "      background-color: #434B5C;\n",
              "      box-shadow: 0px 1px 3px 1px rgba(0, 0, 0, 0.15);\n",
              "      filter: drop-shadow(0px 1px 2px rgba(0, 0, 0, 0.3));\n",
              "      fill: #FFFFFF;\n",
              "    }\n",
              "  </style>\n",
              "\n",
              "      <script>\n",
              "        const buttonEl =\n",
              "          document.querySelector('#df-3e8a3c48-aad2-4dab-8c75-67951fb29e39 button.colab-df-convert');\n",
              "        buttonEl.style.display =\n",
              "          google.colab.kernel.accessAllowed ? 'block' : 'none';\n",
              "\n",
              "        async function convertToInteractive(key) {\n",
              "          const element = document.querySelector('#df-3e8a3c48-aad2-4dab-8c75-67951fb29e39');\n",
              "          const dataTable =\n",
              "            await google.colab.kernel.invokeFunction('convertToInteractive',\n",
              "                                                     [key], {});\n",
              "          if (!dataTable) return;\n",
              "\n",
              "          const docLinkHtml = 'Like what you see? Visit the ' +\n",
              "            '<a target=\"_blank\" href=https://colab.research.google.com/notebooks/data_table.ipynb>data table notebook</a>'\n",
              "            + ' to learn more about interactive tables.';\n",
              "          element.innerHTML = '';\n",
              "          dataTable['output_type'] = 'display_data';\n",
              "          await google.colab.output.renderOutput(dataTable, element);\n",
              "          const docLink = document.createElement('div');\n",
              "          docLink.innerHTML = docLinkHtml;\n",
              "          element.appendChild(docLink);\n",
              "        }\n",
              "      </script>\n",
              "    </div>\n",
              "  </div>\n",
              "  "
            ]
          },
          "metadata": {},
          "execution_count": 6
        }
      ]
    },
    {
      "cell_type": "code",
      "source": [
        "stocks_returns_mean = stocks_returns.mean()\n",
        "# Подбор случайных чисел для весов.\n",
        "weights  = np.random.random(len(stocks_returns.columns))\n",
        "# Генерация весов акций в портфеле.\n",
        "weights /= np.sum(weights)\n",
        "# Вычисление ковариационной матрицы.\n",
        "cov_var = stocks_returns.cov()\n",
        "# Нахождение стандартного отклонения портфеля.\n",
        "port_std = np.sqrt(weights.T.dot(cov_var).dot(weights))"
      ],
      "metadata": {
        "id": "pq3hYcMQY8Lu"
      },
      "execution_count": 7,
      "outputs": []
    },
    {
      "cell_type": "code",
      "source": [
        "# Выведем ковариационную матрицу:\n",
        "cov_var"
      ],
      "metadata": {
        "colab": {
          "base_uri": "https://localhost:8080/",
          "height": 143
        },
        "id": "rmk58Gd3FSef",
        "outputId": "ea2719b6-0046-4fd7-835f-20adc2d7938f"
      },
      "execution_count": 8,
      "outputs": [
        {
          "output_type": "execute_result",
          "data": {
            "text/plain": [
              "           IBM      MSFT      INTC\n",
              "IBM   0.000672  0.000465  0.000569\n",
              "MSFT  0.000465  0.000770  0.000679\n",
              "INTC  0.000569  0.000679  0.001158"
            ],
            "text/html": [
              "\n",
              "  <div id=\"df-85d73027-aaf2-4445-bc32-5723f7d4b856\">\n",
              "    <div class=\"colab-df-container\">\n",
              "      <div>\n",
              "<style scoped>\n",
              "    .dataframe tbody tr th:only-of-type {\n",
              "        vertical-align: middle;\n",
              "    }\n",
              "\n",
              "    .dataframe tbody tr th {\n",
              "        vertical-align: top;\n",
              "    }\n",
              "\n",
              "    .dataframe thead th {\n",
              "        text-align: right;\n",
              "    }\n",
              "</style>\n",
              "<table border=\"1\" class=\"dataframe\">\n",
              "  <thead>\n",
              "    <tr style=\"text-align: right;\">\n",
              "      <th></th>\n",
              "      <th>IBM</th>\n",
              "      <th>MSFT</th>\n",
              "      <th>INTC</th>\n",
              "    </tr>\n",
              "  </thead>\n",
              "  <tbody>\n",
              "    <tr>\n",
              "      <th>IBM</th>\n",
              "      <td>0.000672</td>\n",
              "      <td>0.000465</td>\n",
              "      <td>0.000569</td>\n",
              "    </tr>\n",
              "    <tr>\n",
              "      <th>MSFT</th>\n",
              "      <td>0.000465</td>\n",
              "      <td>0.000770</td>\n",
              "      <td>0.000679</td>\n",
              "    </tr>\n",
              "    <tr>\n",
              "      <th>INTC</th>\n",
              "      <td>0.000569</td>\n",
              "      <td>0.000679</td>\n",
              "      <td>0.001158</td>\n",
              "    </tr>\n",
              "  </tbody>\n",
              "</table>\n",
              "</div>\n",
              "      <button class=\"colab-df-convert\" onclick=\"convertToInteractive('df-85d73027-aaf2-4445-bc32-5723f7d4b856')\"\n",
              "              title=\"Convert this dataframe to an interactive table.\"\n",
              "              style=\"display:none;\">\n",
              "        \n",
              "  <svg xmlns=\"http://www.w3.org/2000/svg\" height=\"24px\"viewBox=\"0 0 24 24\"\n",
              "       width=\"24px\">\n",
              "    <path d=\"M0 0h24v24H0V0z\" fill=\"none\"/>\n",
              "    <path d=\"M18.56 5.44l.94 2.06.94-2.06 2.06-.94-2.06-.94-.94-2.06-.94 2.06-2.06.94zm-11 1L8.5 8.5l.94-2.06 2.06-.94-2.06-.94L8.5 2.5l-.94 2.06-2.06.94zm10 10l.94 2.06.94-2.06 2.06-.94-2.06-.94-.94-2.06-.94 2.06-2.06.94z\"/><path d=\"M17.41 7.96l-1.37-1.37c-.4-.4-.92-.59-1.43-.59-.52 0-1.04.2-1.43.59L10.3 9.45l-7.72 7.72c-.78.78-.78 2.05 0 2.83L4 21.41c.39.39.9.59 1.41.59.51 0 1.02-.2 1.41-.59l7.78-7.78 2.81-2.81c.8-.78.8-2.07 0-2.86zM5.41 20L4 18.59l7.72-7.72 1.47 1.35L5.41 20z\"/>\n",
              "  </svg>\n",
              "      </button>\n",
              "      \n",
              "  <style>\n",
              "    .colab-df-container {\n",
              "      display:flex;\n",
              "      flex-wrap:wrap;\n",
              "      gap: 12px;\n",
              "    }\n",
              "\n",
              "    .colab-df-convert {\n",
              "      background-color: #E8F0FE;\n",
              "      border: none;\n",
              "      border-radius: 50%;\n",
              "      cursor: pointer;\n",
              "      display: none;\n",
              "      fill: #1967D2;\n",
              "      height: 32px;\n",
              "      padding: 0 0 0 0;\n",
              "      width: 32px;\n",
              "    }\n",
              "\n",
              "    .colab-df-convert:hover {\n",
              "      background-color: #E2EBFA;\n",
              "      box-shadow: 0px 1px 2px rgba(60, 64, 67, 0.3), 0px 1px 3px 1px rgba(60, 64, 67, 0.15);\n",
              "      fill: #174EA6;\n",
              "    }\n",
              "\n",
              "    [theme=dark] .colab-df-convert {\n",
              "      background-color: #3B4455;\n",
              "      fill: #D2E3FC;\n",
              "    }\n",
              "\n",
              "    [theme=dark] .colab-df-convert:hover {\n",
              "      background-color: #434B5C;\n",
              "      box-shadow: 0px 1px 3px 1px rgba(0, 0, 0, 0.15);\n",
              "      filter: drop-shadow(0px 1px 2px rgba(0, 0, 0, 0.3));\n",
              "      fill: #FFFFFF;\n",
              "    }\n",
              "  </style>\n",
              "\n",
              "      <script>\n",
              "        const buttonEl =\n",
              "          document.querySelector('#df-85d73027-aaf2-4445-bc32-5723f7d4b856 button.colab-df-convert');\n",
              "        buttonEl.style.display =\n",
              "          google.colab.kernel.accessAllowed ? 'block' : 'none';\n",
              "\n",
              "        async function convertToInteractive(key) {\n",
              "          const element = document.querySelector('#df-85d73027-aaf2-4445-bc32-5723f7d4b856');\n",
              "          const dataTable =\n",
              "            await google.colab.kernel.invokeFunction('convertToInteractive',\n",
              "                                                     [key], {});\n",
              "          if (!dataTable) return;\n",
              "\n",
              "          const docLinkHtml = 'Like what you see? Visit the ' +\n",
              "            '<a target=\"_blank\" href=https://colab.research.google.com/notebooks/data_table.ipynb>data table notebook</a>'\n",
              "            + ' to learn more about interactive tables.';\n",
              "          element.innerHTML = '';\n",
              "          dataTable['output_type'] = 'display_data';\n",
              "          await google.colab.output.renderOutput(dataTable, element);\n",
              "          const docLink = document.createElement('div');\n",
              "          docLink.innerHTML = docLinkHtml;\n",
              "          element.appendChild(docLink);\n",
              "        }\n",
              "      </script>\n",
              "    </div>\n",
              "  </div>\n",
              "  "
            ]
          },
          "metadata": {},
          "execution_count": 8
        }
      ]
    },
    {
      "cell_type": "code",
      "source": [
        "# Пусть сумма для инвестирования = 1 млн., c уровенем доверия 95%\n",
        "initial_investment = 1e6\n",
        "conf_level = 0.95"
      ],
      "metadata": {
        "id": "YNDcQUemY-nr"
      },
      "execution_count": 9,
      "outputs": []
    },
    {
      "cell_type": "code",
      "source": [
        "def VaR_parametric(initial_investment, conf_level):\n",
        "    # Вычисление критического значения (Z-score) для определенного значения (conf_level) с использованием функции процентных пунктов (ppf).\n",
        "    alpha = norm.ppf(1 - conf_level, stocks_returns_mean, port_std)\n",
        "    for i, j in zip(stocks.columns, range(len(stocks.columns))):\n",
        "        # Оценка дисперсионно-ковариационной модели VaR.\n",
        "        VaR_param = (initial_investment - initial_investment * \n",
        "                     (1 + alpha))[j]\n",
        "        print(\"Для {} оценка VaR: {} с использованием параметрческого метода\"\n",
        "              .format(i, VaR_param))\n",
        "    VaR_param = (initial_investment - initial_investment * (1 + alpha))\n",
        "    print('--' * 25)\n",
        "    return VaR_param"
      ],
      "metadata": {
        "id": "dtx05UfBZA-w"
      },
      "execution_count": 10,
      "outputs": []
    },
    {
      "cell_type": "code",
      "source": [
        "VaR_param = VaR_parametric(initial_investment, conf_level)\n",
        "VaR_param"
      ],
      "metadata": {
        "id": "L68s20e7ZEXL",
        "colab": {
          "base_uri": "https://localhost:8080/"
        },
        "outputId": "8dcce77e-3a35-443d-ce6b-5b9ed851c119"
      },
      "execution_count": 11,
      "outputs": [
        {
          "output_type": "stream",
          "name": "stdout",
          "text": [
            "Для IBM оценка VaR: 42898.75763152074 с использованием параметрческого метода\n",
            "Для MSFT оценка VaR: 41317.09831607749 с использованием параметрческого метода\n",
            "Для INTC оценка VaR: 43401.84878110711 с использованием параметрческого метода\n",
            "--------------------------------------------------\n"
          ]
        },
        {
          "output_type": "execute_result",
          "data": {
            "text/plain": [
              "array([42898.75763152, 41317.09831608, 43401.84878111])"
            ]
          },
          "metadata": {},
          "execution_count": 11
        }
      ]
    },
    {
      "cell_type": "markdown",
      "source": [
        "Учитывая временной горизонт, результат оценки VaR меняется из-за того, что удержание актива в течение более длительного периода делает инвестора более восприимчивым к риску. \n",
        "\n",
        "Как показано на рис.2, VaR увеличивается по отношению ко времени выдержки на величину $\\sqrt{t}$, где ${t}$ - количество дней, что также отражено в приведенной формуле:\n",
        "\n",
        "${VaR = V\\sigma_p\\sqrt{t}Z_\\alpha}$\n",
        "\n",
        "При построении графика на рис.2 был взят 30-дневный период. "
      ],
      "metadata": {
        "id": "xRca8xkJeZ8n"
      }
    },
    {
      "cell_type": "code",
      "source": [
        "var_horizon = []\n",
        "time_horizon = 30\n",
        "for j in range(len(stocks_returns.columns)):\n",
        "    for i in range(1, time_horizon + 1):\n",
        "        var_horizon.append(VaR_param[j] * np.sqrt(i))\n",
        "plt.plot(var_horizon[:time_horizon], \"o\",\n",
        "         c='blue', marker='*', label='IBM')\n",
        "plt.plot(var_horizon[time_horizon:time_horizon + 30], \"o\",\n",
        "         c='green', marker='o', label='MSFT')\n",
        "plt.plot(var_horizon[time_horizon + 30:time_horizon + 60], \"o\",\n",
        "         c='red', marker='v', label='INTC')\n",
        "plt.xlabel(\"Дни\")\n",
        "plt.ylabel(\"USD\")\n",
        "plt.title(\"VaR за период 30-дней\")\n",
        "plt.legend()\n",
        "plt.show()"
      ],
      "metadata": {
        "id": "S9yjQcQQZHxs",
        "colab": {
          "base_uri": "https://localhost:8080/",
          "height": 301
        },
        "outputId": "6c4fd6b8-cf81-47f8-9bde-0a6c2ce860f0"
      },
      "execution_count": 12,
      "outputs": [
        {
          "output_type": "display_data",
          "data": {
            "text/plain": [
              "<Figure size 432x288 with 1 Axes>"
            ],
            "image/png": "[encoded data removed]"
          },
          "metadata": {
            "needs_background": "light"
          }
        }
      ]
    },
    {
      "cell_type": "markdown",
      "source": [
        "Рис.2 VaR в зависимости от периода\n"
      ],
      "metadata": {
        "id": "Nn0b7T1sfR24"
      }
    },
    {
      "cell_type": "markdown",
      "source": [
        "## Плюсы и минусы метода дисперсионно-ковариационного анализа.\n",
        "\n",
        "Плюсы:\n",
        "* Легко вычисляется\n",
        "* Для этого не требуется большого количества данных\n",
        "\n",
        "Минусы\n",
        "* Наблюдения должны быть распределены нормально\n",
        "* Он плохо работает с нелинейной структурой\n",
        "* Требуется вычисление ковариационной матрицы\n",
        "\n",
        "Таким образом, данный метод не является лучшим способом оценки VaR, особенно в случае, когда доходность активов не имеет нормального распределения. "
      ],
      "metadata": {
        "id": "homJAF6-fnrX"
      }
    },
    {
      "cell_type": "markdown",
      "source": [
        "# Метод Исторического моделирования"
      ],
      "metadata": {
        "id": "Jyqo5Bq1lGlj"
      }
    },
    {
      "cell_type": "markdown",
      "source": [
        "Наличие сильных допущений, таких как нормальное распределение, может быть причиной неточных оценок. Решением этой проблемы является историческое моделирование VaR. Это эмпирический метод: вместо использования параметрического подхода мы находим процентиль, который является эквивалентом Z-таблицы дисперсионно-ковариационного метода. Предположим, что доверительный интервал равен 95%; вместо значений Z-таблицы будет использоваться 5%, и все, что нам нужно сделать, это умножить этот процентиль на первоначальные инвестиции."
      ],
      "metadata": {
        "id": "MBR-zT57lf2v"
      }
    },
    {
      "cell_type": "markdown",
      "source": [
        "Ниже приведены шаги, предпринятые в историческом моделировании VaR:\n",
        "* Получение доходности активов портфеля (или отдельного актива)\n",
        "* Нахождение соответствующего процентиля доходности на основе доверительного интервала\n",
        "* Умножение этого процентиля на первоначальные инвестиции"
      ],
      "metadata": {
        "id": "0BJ72m2blf7w"
      }
    },
    {
      "cell_type": "code",
      "source": [
        "# Вычисление 95%-ного процентиля доходности акций\n",
        "def VaR_historical(initial_investment, conf_level):\n",
        "    Hist_percentile95 = []\n",
        "    for i, j in zip(stocks_returns.columns,\n",
        "                    range(len(stocks_returns.columns))):\n",
        "        Hist_percentile95.append(np.percentile(stocks_returns.loc[:, i],\n",
        "                                               5))\n",
        "        print(\"На основе исторических данных 95-му персентилю в распределении доходности {} соответствует {:.4f}\"\n",
        "              .format(i, Hist_percentile95[j]))\n",
        "        VaR_historical = (initial_investment - initial_investment *\n",
        "                          (1 + Hist_percentile95[j]))\n",
        "        print(\"Для {} оценка VaR: {:.2f} с использованием метода исторического моделирования\"\n",
        "              .format(i, VaR_historical))\n",
        "        print('--' * 35)"
      ],
      "metadata": {
        "id": "qftq7FLRlG9m"
      },
      "execution_count": 13,
      "outputs": []
    },
    {
      "cell_type": "code",
      "source": [
        "# Оценка исторического моделирования VaR\n",
        "VaR_historical_20 = VaR_historical(initial_investment,conf_level)"
      ],
      "metadata": {
        "id": "KQgcWYS2lHAp",
        "colab": {
          "base_uri": "https://localhost:8080/"
        },
        "outputId": "c58da356-db93-445a-cf78-e1f23d8946f0"
      },
      "execution_count": 14,
      "outputs": [
        {
          "output_type": "stream",
          "name": "stdout",
          "text": [
            "На основе исторических данных 95-му персентилю в распределении доходности IBM соответствует -0.0371\n",
            "Для IBM оценка VaR: 37081.53 с использованием метода исторического моделирования\n",
            "----------------------------------------------------------------------\n",
            "На основе исторических данных 95-му персентилю в распределении доходности MSFT соответствует -0.0426\n",
            "Для MSFT оценка VaR: 42583.68 с использованием метода исторического моделирования\n",
            "----------------------------------------------------------------------\n",
            "На основе исторических данных 95-му персентилю в распределении доходности INTC соответствует -0.0425\n",
            "Для INTC оценка VaR: 42485.39 с использованием метода исторического моделирования\n",
            "----------------------------------------------------------------------\n"
          ]
        }
      ]
    },
    {
      "cell_type": "markdown",
      "source": [
        "Метод исторического моделирования VaR неявно предполагает, что исторические изменения цен имеют аналогичную закономерность, т.е. что *структурного разрыва* нет. Плюсы и минусы этого метода заключаются в следующем:\n",
        "\n",
        "Плюсы\n",
        "* Нет предположения о распределении\n",
        "* Хорошо работает с нелинейными структурами\n",
        "* Легко вычисляется\n",
        "\n",
        "Минусы\n",
        "* Требуется большая выборка\n",
        "* Требуется высокая вычислительная мощность"
      ],
      "metadata": {
        "id": "PiojSYJJmhZx"
      }
    },
    {
      "cell_type": "markdown",
      "source": [
        "# Применим эти методы на данных за период 2007-2009 гг.\n",
        "### Загрузим данные "
      ],
      "metadata": {
        "id": "B6jTxXKpbcYG"
      }
    },
    {
      "cell_type": "markdown",
      "source": [
        "При первом запуске на этом шаге возникает ошибка (ValueError: Index timestamp invalid), она связана с повторной загрузкой данных с alphavantage (насколько удалось разобраться). При последующих попытках данные загружаются."
      ],
      "metadata": {
        "id": "0FiLbFZaNBc1"
      }
    },
    {
      "cell_type": "code",
      "source": [
        "symbols = [\"IBM\", \"MSFT\", \"INTC\"]\n",
        "stock3 = []\n",
        "for symbol in symbols:\n",
        "    # Перевернем данные, охватывающие период проверки, и добавьте ежедневные цены закрытия акций IBM, MSFT и INTC.\n",
        "    stock3.append(getDailyData(symbol)[::-1]['close']['2007-04-01': '2009-02-01'])\n",
        "\n",
        "stocks_crisis = pd.DataFrame(stock3).T\n",
        "stocks_crisis.columns = symbols"
      ],
      "metadata": {
        "id": "BntBH2bXnVX4"
      },
      "execution_count": 22,
      "outputs": []
    },
    {
      "cell_type": "code",
      "source": [
        "stocks_crisis.head()"
      ],
      "metadata": {
        "id": "ieODm5P3n5DT",
        "colab": {
          "base_uri": "https://localhost:8080/",
          "height": 237
        },
        "outputId": "e48b6104-68b3-4bad-f2aa-be7c0e6dd4ce"
      },
      "execution_count": 23,
      "outputs": [
        {
          "output_type": "execute_result",
          "data": {
            "text/plain": [
              "              IBM   MSFT   INTC\n",
              "timestamp                      \n",
              "2007-04-02  95.21  27.74  19.13\n",
              "2007-04-03  96.10  27.87  19.31\n",
              "2007-04-04  96.21  28.50  19.38\n",
              "2007-04-05  96.52  28.55  19.58\n",
              "2007-04-09  96.62  28.57  20.10"
            ],
            "text/html": [
              "\n",
              "  <div id=\"df-e8368d80-dec2-4b62-860e-6e00b7b15fbf\">\n",
              "    <div class=\"colab-df-container\">\n",
              "      <div>\n",
              "<style scoped>\n",
              "    .dataframe tbody tr th:only-of-type {\n",
              "        vertical-align: middle;\n",
              "    }\n",
              "\n",
              "    .dataframe tbody tr th {\n",
              "        vertical-align: top;\n",
              "    }\n",
              "\n",
              "    .dataframe thead th {\n",
              "        text-align: right;\n",
              "    }\n",
              "</style>\n",
              "<table border=\"1\" class=\"dataframe\">\n",
              "  <thead>\n",
              "    <tr style=\"text-align: right;\">\n",
              "      <th></th>\n",
              "      <th>IBM</th>\n",
              "      <th>MSFT</th>\n",
              "      <th>INTC</th>\n",
              "    </tr>\n",
              "    <tr>\n",
              "      <th>timestamp</th>\n",
              "      <th></th>\n",
              "      <th></th>\n",
              "      <th></th>\n",
              "    </tr>\n",
              "  </thead>\n",
              "  <tbody>\n",
              "    <tr>\n",
              "      <th>2007-04-02</th>\n",
              "      <td>95.21</td>\n",
              "      <td>27.74</td>\n",
              "      <td>19.13</td>\n",
              "    </tr>\n",
              "    <tr>\n",
              "      <th>2007-04-03</th>\n",
              "      <td>96.10</td>\n",
              "      <td>27.87</td>\n",
              "      <td>19.31</td>\n",
              "    </tr>\n",
              "    <tr>\n",
              "      <th>2007-04-04</th>\n",
              "      <td>96.21</td>\n",
              "      <td>28.50</td>\n",
              "      <td>19.38</td>\n",
              "    </tr>\n",
              "    <tr>\n",
              "      <th>2007-04-05</th>\n",
              "      <td>96.52</td>\n",
              "      <td>28.55</td>\n",
              "      <td>19.58</td>\n",
              "    </tr>\n",
              "    <tr>\n",
              "      <th>2007-04-09</th>\n",
              "      <td>96.62</td>\n",
              "      <td>28.57</td>\n",
              "      <td>20.10</td>\n",
              "    </tr>\n",
              "  </tbody>\n",
              "</table>\n",
              "</div>\n",
              "      <button class=\"colab-df-convert\" onclick=\"convertToInteractive('df-e8368d80-dec2-4b62-860e-6e00b7b15fbf')\"\n",
              "              title=\"Convert this dataframe to an interactive table.\"\n",
              "              style=\"display:none;\">\n",
              "        \n",
              "  <svg xmlns=\"http://www.w3.org/2000/svg\" height=\"24px\"viewBox=\"0 0 24 24\"\n",
              "       width=\"24px\">\n",
              "    <path d=\"M0 0h24v24H0V0z\" fill=\"none\"/>\n",
              "    <path d=\"M18.56 5.44l.94 2.06.94-2.06 2.06-.94-2.06-.94-.94-2.06-.94 2.06-2.06.94zm-11 1L8.5 8.5l.94-2.06 2.06-.94-2.06-.94L8.5 2.5l-.94 2.06-2.06.94zm10 10l.94 2.06.94-2.06 2.06-.94-2.06-.94-.94-2.06-.94 2.06-2.06.94z\"/><path d=\"M17.41 7.96l-1.37-1.37c-.4-.4-.92-.59-1.43-.59-.52 0-1.04.2-1.43.59L10.3 9.45l-7.72 7.72c-.78.78-.78 2.05 0 2.83L4 21.41c.39.39.9.59 1.41.59.51 0 1.02-.2 1.41-.59l7.78-7.78 2.81-2.81c.8-.78.8-2.07 0-2.86zM5.41 20L4 18.59l7.72-7.72 1.47 1.35L5.41 20z\"/>\n",
              "  </svg>\n",
              "      </button>\n",
              "      \n",
              "  <style>\n",
              "    .colab-df-container {\n",
              "      display:flex;\n",
              "      flex-wrap:wrap;\n",
              "      gap: 12px;\n",
              "    }\n",
              "\n",
              "    .colab-df-convert {\n",
              "      background-color: #E8F0FE;\n",
              "      border: none;\n",
              "      border-radius: 50%;\n",
              "      cursor: pointer;\n",
              "      display: none;\n",
              "      fill: #1967D2;\n",
              "      height: 32px;\n",
              "      padding: 0 0 0 0;\n",
              "      width: 32px;\n",
              "    }\n",
              "\n",
              "    .colab-df-convert:hover {\n",
              "      background-color: #E2EBFA;\n",
              "      box-shadow: 0px 1px 2px rgba(60, 64, 67, 0.3), 0px 1px 3px 1px rgba(60, 64, 67, 0.15);\n",
              "      fill: #174EA6;\n",
              "    }\n",
              "\n",
              "    [theme=dark] .colab-df-convert {\n",
              "      background-color: #3B4455;\n",
              "      fill: #D2E3FC;\n",
              "    }\n",
              "\n",
              "    [theme=dark] .colab-df-convert:hover {\n",
              "      background-color: #434B5C;\n",
              "      box-shadow: 0px 1px 3px 1px rgba(0, 0, 0, 0.15);\n",
              "      filter: drop-shadow(0px 1px 2px rgba(0, 0, 0, 0.3));\n",
              "      fill: #FFFFFF;\n",
              "    }\n",
              "  </style>\n",
              "\n",
              "      <script>\n",
              "        const buttonEl =\n",
              "          document.querySelector('#df-e8368d80-dec2-4b62-860e-6e00b7b15fbf button.colab-df-convert');\n",
              "        buttonEl.style.display =\n",
              "          google.colab.kernel.accessAllowed ? 'block' : 'none';\n",
              "\n",
              "        async function convertToInteractive(key) {\n",
              "          const element = document.querySelector('#df-e8368d80-dec2-4b62-860e-6e00b7b15fbf');\n",
              "          const dataTable =\n",
              "            await google.colab.kernel.invokeFunction('convertToInteractive',\n",
              "                                                     [key], {});\n",
              "          if (!dataTable) return;\n",
              "\n",
              "          const docLinkHtml = 'Like what you see? Visit the ' +\n",
              "            '<a target=\"_blank\" href=https://colab.research.google.com/notebooks/data_table.ipynb>data table notebook</a>'\n",
              "            + ' to learn more about interactive tables.';\n",
              "          element.innerHTML = '';\n",
              "          dataTable['output_type'] = 'display_data';\n",
              "          await google.colab.output.renderOutput(dataTable, element);\n",
              "          const docLink = document.createElement('div');\n",
              "          docLink.innerHTML = docLinkHtml;\n",
              "          element.appendChild(docLink);\n",
              "        }\n",
              "      </script>\n",
              "    </div>\n",
              "  </div>\n",
              "  "
            ]
          },
          "metadata": {},
          "execution_count": 23
        }
      ]
    },
    {
      "cell_type": "code",
      "source": [
        "stock_prices_cr = stocks_crisis.copy()"
      ],
      "metadata": {
        "id": "v2kEU8VypDIM"
      },
      "execution_count": 24,
      "outputs": []
    },
    {
      "cell_type": "code",
      "source": [
        "stocks_returns_cr = (np.log(stocks_crisis) - np.log(stocks_crisis.shift(1))).dropna()"
      ],
      "metadata": {
        "id": "NRrk2pl-pGaR"
      },
      "execution_count": 25,
      "outputs": []
    },
    {
      "cell_type": "code",
      "source": [
        "stocks_returns_cr_mean = stocks_returns_cr.mean()\n",
        "# Веса активов в портфеле оставим без изменений.\n",
        "# Вычисление ковариационной матрицы.\n",
        "cov_var_cr = stocks_returns_cr.cov()\n",
        "# Нахождение стандартного отклонения портфеля.\n",
        "port_std_cr = np.sqrt(weights.T.dot(cov_var_cr).dot(weights))"
      ],
      "metadata": {
        "id": "B9G3yqDlJA3s"
      },
      "execution_count": 26,
      "outputs": []
    },
    {
      "cell_type": "code",
      "source": [
        "# Выведем ковариационную матрицу:\n",
        "cov_matrix_cr = stocks_returns_cr.cov()\n",
        "print(cov_matrix_cr)"
      ],
      "metadata": {
        "id": "Onr4ZLzfsa-j",
        "colab": {
          "base_uri": "https://localhost:8080/"
        },
        "outputId": "4e618a5d-809f-480d-c37e-fd8e821dd01b"
      },
      "execution_count": 27,
      "outputs": [
        {
          "output_type": "stream",
          "name": "stdout",
          "text": [
            "           IBM      MSFT      INTC\n",
            "IBM   0.000405  0.000338  0.000389\n",
            "MSFT  0.000338  0.000666  0.000512\n",
            "INTC  0.000389  0.000512  0.000785\n"
          ]
        }
      ]
    },
    {
      "cell_type": "code",
      "source": [
        "def VaR_parametric_cr(initial_investment, conf_level):\n",
        "    # Вычисление критического значения (Z-score) для определенного значения (conf_level) с использованием функции процентных пунктов (ppf).\n",
        "    alpha = norm.ppf(1 - conf_level, stocks_returns_cr_mean, port_std_cr)\n",
        "    for i, j in zip(stocks_returns_cr.columns, range(len(stocks_returns_cr.columns))):\n",
        "        # Оценка дисперсионно-ковариационной модели VaR.\n",
        "        VaR_param = (initial_investment - initial_investment * \n",
        "                     (1 + alpha))[j]\n",
        "        print(\"Для {} оценка VaR: {} с использованием параметрческого метода\"\n",
        "              .format(i, VaR_param))\n",
        "    VaR_param = (initial_investment - initial_investment * (1 + alpha))\n",
        "    print('--' * 25)\n",
        "    return VaR_param"
      ],
      "metadata": {
        "id": "cYgebbw6HsuU"
      },
      "execution_count": 28,
      "outputs": []
    },
    {
      "cell_type": "code",
      "source": [
        "VaR_param_07= VaR_parametric_cr(initial_investment, conf_level)\n",
        "VaR_param_07"
      ],
      "metadata": {
        "id": "7seaOq-xpNIH",
        "colab": {
          "base_uri": "https://localhost:8080/"
        },
        "outputId": "01fc523e-1405-45a7-da25-7ac013d757bc"
      },
      "execution_count": 29,
      "outputs": [
        {
          "output_type": "stream",
          "name": "stdout",
          "text": [
            "Для IBM оценка VaR: 37879.93158169638 с использованием параметрческого метода\n",
            "Для MSFT оценка VaR: 38844.626272965106 с использованием параметрческого метода\n",
            "Для INTC оценка VaR: 38650.32653423445 с использованием параметрческого метода\n",
            "--------------------------------------------------\n"
          ]
        },
        {
          "output_type": "execute_result",
          "data": {
            "text/plain": [
              "array([37879.9315817 , 38844.62627297, 38650.32653423])"
            ]
          },
          "metadata": {},
          "execution_count": 29
        }
      ]
    },
    {
      "cell_type": "code",
      "source": [
        "var_horizon = []\n",
        "time_horizon = 30\n",
        "for j in range(len(stocks_returns_cr.columns)):\n",
        "    for i in range(1, time_horizon + 1):\n",
        "        var_horizon.append(VaR_param[j] * np.sqrt(i))\n",
        "plt.plot(var_horizon[:time_horizon], \"o\",\n",
        "         c='blue', marker='*', label='IBM')\n",
        "plt.plot(var_horizon[time_horizon:time_horizon + 30], \"o\",\n",
        "         c='green', marker='o', label='MSFT')\n",
        "plt.plot(var_horizon[time_horizon + 30:time_horizon + 60], \"o\",\n",
        "         c='red', marker='v', label='INTC')\n",
        "plt.xlabel(\"Days\")\n",
        "plt.ylabel(\"USD\")\n",
        "plt.title(\"VaR за период 30-дней\")\n",
        "plt.legend()\n",
        "plt.show()"
      ],
      "metadata": {
        "id": "UNcqV1dhSAfK",
        "colab": {
          "base_uri": "https://localhost:8080/",
          "height": 301
        },
        "outputId": "458bd25a-4e00-4845-b29d-7ac7f2f7b3c9"
      },
      "execution_count": 30,
      "outputs": [
        {
          "output_type": "display_data",
          "data": {
            "text/plain": [
              "<Figure size 432x288 with 1 Axes>"
            ],
            "image/png": "[encoded data removed]"
          },
          "metadata": {
            "needs_background": "light"
          }
        }
      ]
    },
    {
      "cell_type": "code",
      "source": [
        "# Применим метод исторической симуляции для кризисного периода\n",
        "\n",
        "def VaR_historical_cr(initial_investment, conf_level):\n",
        "    Hist_percentile95 = []\n",
        "    for i, j in zip(stocks_returns_cr.columns,\n",
        "                    range(len(stocks_returns_cr.columns))):\n",
        "        Hist_percentile95.append(np.percentile(stocks_returns_cr.loc[:, i],\n",
        "                                               5))\n",
        "        print(\"На основе исторических данных 95-му персентилю в распределении доходности {} соответствует {:.4f}\"\n",
        "              .format(i, Hist_percentile95[j]))\n",
        "        VaR_historical = (initial_investment - initial_investment *\n",
        "                          (1 + Hist_percentile95[j]))\n",
        "        print(\"Для {} оценка VaR: {:.2f} с использованием метода исторического моделирования\"\n",
        "              .format(i, VaR_historical))\n",
        "        print('--' * 35)"
      ],
      "metadata": {
        "id": "u8ki2XPqyajs"
      },
      "execution_count": 31,
      "outputs": []
    },
    {
      "cell_type": "code",
      "source": [
        "VaR_historical_07 = VaR_historical(initial_investment,conf_level)"
      ],
      "metadata": {
        "colab": {
          "base_uri": "https://localhost:8080/"
        },
        "id": "SzjQZE5ty7bU",
        "outputId": "ae8e06d5-1806-4f0c-fc60-2f7c62de9e2a"
      },
      "execution_count": 32,
      "outputs": [
        {
          "output_type": "stream",
          "name": "stdout",
          "text": [
            "На основе исторических данных 95-му персентилю в распределении доходности IBM соответствует -0.0371\n",
            "Для IBM оценка VaR: 37081.53 с использованием метода исторического моделирования\n",
            "----------------------------------------------------------------------\n",
            "На основе исторических данных 95-му персентилю в распределении доходности MSFT соответствует -0.0426\n",
            "Для MSFT оценка VaR: 42583.68 с использованием метода исторического моделирования\n",
            "----------------------------------------------------------------------\n",
            "На основе исторических данных 95-му персентилю в распределении доходности INTC соответствует -0.0425\n",
            "Для INTC оценка VaR: 42485.39 с использованием метода исторического моделирования\n",
            "----------------------------------------------------------------------\n"
          ]
        }
      ]
    },
    {
      "cell_type": "markdown",
      "source": [
        "В этом блокноте представлены примеры расчета VaR для портфеля из 3х акций за два периода. Расчет производился 2мя методами: параметрическим и методом исторического моделирования."
      ],
      "metadata": {
        "id": "JkTM7PmiO-gc"
      }
    }
  ]
}